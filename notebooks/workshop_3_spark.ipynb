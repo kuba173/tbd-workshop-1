{
 "cells": [
  {
   "cell_type": "markdown",
   "id": "2b2f4aed",
   "metadata": {},
   "source": [
    "# ADAC Warsztaty 4."
   ]
  },
  {
   "cell_type": "markdown",
   "id": "fa387d32",
   "metadata": {},
   "source": [
    "## 1. Instalacja niezbędnych bibliotek"
   ]
  },
  {
   "cell_type": "code",
   "execution_count": null,
   "id": "deea2308-e41c-4ed1-89b7-b8b7d298ef19",
   "metadata": {},
   "outputs": [],
   "source": [
    "!pip install opendatasets\n",
    "!pip install seaborn"
   ]
  },
  {
   "cell_type": "markdown",
   "id": "91cc6971",
   "metadata": {},
   "source": [
    "## 2. Pobranie danych\n",
    "Za pomocą biblioteki opendatasets proszę pobrać zbiór danych Hikari (https://www.kaggle.com/datasets/kk0105/allflowmeter-hikari2021). Aby to zrobić, należy zarejestrować lub zalogować się w Kaggle i w ustawieniach użytkownika pobrać klucz API."
   ]
  },
  {
   "cell_type": "code",
   "execution_count": null,
   "id": "750a84f6-dc2a-4efe-a958-4109e65f5102",
   "metadata": {},
   "outputs": [],
   "source": [
    "import opendatasets as od\n",
    "dataset_url = 'https://www.kaggle.com/datasets/kk0105/allflowmeter-hikari2021'\n",
    "od.download(dataset_url)"
   ]
  },
  {
   "cell_type": "markdown",
   "id": "1981fef7",
   "metadata": {},
   "source": [
    "## 3. Inicjalizacja Spark"
   ]
  },
  {
   "cell_type": "code",
   "execution_count": 4,
   "id": "6e137f28-45a4-4ac6-8dc5-66be6348dfdf",
   "metadata": {},
   "outputs": [
    {
     "name": "stdout",
     "output_type": "stream",
     "text": [
      "jovyan\n"
     ]
    }
   ],
   "source": [
    "import os\n",
    "user_name = 'jovyan'\n",
    "print(user_name)"
   ]
  },
  {
   "cell_type": "code",
   "execution_count": null,
   "id": "4efdf869-7969-4e0b-833c-41ebcd5474b8",
   "metadata": {},
   "outputs": [],
   "source": [
    "\n",
    "from pyspark.sql import SparkSession\n",
    "spark.stop()\n",
    "spark = SparkSession \\\n",
    ".builder \\\n",
    ".config(\"spark.master\",\"local[10]\")\\\n",
    ".config(\"spark.executor.instances\", \"2\")\\\n",
    ".config('spark.driver.memory','1g') \\\n",
    ".config('spark.executor.memory', '2g') \\\n",
    ".getOrCreate()\n",
    "\n",
    "# ścieżka dostępu do pliku \n",
    "csv_path = 'file:////home/jovyan/work/allflowmeter-hikari2021/ALLFLOWMETER_HIKARI2021.csv'\n",
    "db_name = user_name.replace('-','_')\n",
    "spark.sql(f'DROP DATABASE IF EXISTS {db_name} CASCADE')\n",
    "spark.sql(f'CREATE DATABASE {db_name}')\n",
    "spark.sql(f'USE {db_name}')\n",
    "table_name = \"hikari\"    \n",
    "spark.sql(f'DROP TABLE IF EXISTS {table_name}')\n",
    "\n",
    "spark.sql(f'CREATE TABLE IF NOT EXISTS {table_name} \\\n",
    "          USING csv \\\n",
    "          OPTIONS (HEADER true, INFERSCHEMA true, NULLVALUE \"NA\") \\\n",
    "          LOCATION \"{csv_path}\"')\n",
    "\n",
    "spark.sql(f'select * from {table_name} ').describe().toPandas()"
   ]
  },
  {
   "cell_type": "markdown",
   "id": "6fa02851",
   "metadata": {},
   "source": [
    "## 4. Eksploracyjna analiza danych\n",
    "Proszę przeprowadzić eksploracyjną analizę danych ze zbioru danych Kaggle. Należy przygotować co najmniej następujące wykresy przy użyciu bibliotek matplotlib, seaborn i pyspark.ml dla kolumn `flow_duration`, `responp`, `idle.tot`, `fwd_init_window_size`:\n",
    "- Histogram\n",
    "- Wykres korelacji zmiennych\n",
    "- PCA (Principal Component Analysis)"
   ]
  },
  {
   "cell_type": "code",
   "execution_count": null,
   "id": "070c6613",
   "metadata": {},
   "outputs": [],
   "source": []
  },
  {
   "cell_type": "markdown",
   "id": "d0f3afa3",
   "metadata": {},
   "source": [
    "## 5. Wstępne przetwarzanie danych\n",
    "Proszę przeprowadzić wstępne przetwarzanie danych za pomocą Spark, w tym między innymi:\n",
    "- zadbać o wartości puste i dane niekompletne,\n",
    "- wybrać kolumny istotne dla przewidywania etykiety (np. nie brać pod uwagę identyfikatorów),\n",
    "- podzielić zbiór na treningowy, testowy oraz ewentualnie walidacyjny we właściwych proporcjach,\n",
    "- znormalizować dane, aby mogły być podane na wejściu modelu."
   ]
  },
  {
   "cell_type": "code",
   "execution_count": null,
   "id": "42742cbd",
   "metadata": {},
   "outputs": [],
   "source": []
  },
  {
   "cell_type": "markdown",
   "id": "27eec6b8",
   "metadata": {},
   "source": [
    "## 6. Uczenie, testowanie i wdrożenie modelu przy użyciu Spark i MLflow\n",
    "Proszę przeprowadzić uczenie modelu za pomocą narzędzi Spark i MLflow, przy użyciu trzech klasyfikatorów:\n",
    "- SVC (Support Vector Classifier)\n",
    "- MLP (Multi-Layer Perceptron)\n",
    "- KNN (k-nearest neighbors).  \n",
    "Proszę przetestować modele za pomocą danych testowych i porównać wyniki dla trzech modeli przy użyciu kilku metryk (np. Accuracy, Precision, Recall, F1)."
   ]
  },
  {
   "cell_type": "code",
   "execution_count": null,
   "id": "efebb9b6",
   "metadata": {},
   "outputs": [],
   "source": []
  }
 ],
 "metadata": {
  "kernelspec": {
   "display_name": "Python 3 (ipykernel)",
   "language": "python",
   "name": "python3"
  },
  "language_info": {
   "codemirror_mode": {
    "name": "ipython",
    "version": 3
   },
   "file_extension": ".py",
   "mimetype": "text/x-python",
   "name": "python",
   "nbconvert_exporter": "python",
   "pygments_lexer": "ipython3",
   "version": "3.9.16"
  }
 },
 "nbformat": 4,
 "nbformat_minor": 5
}
